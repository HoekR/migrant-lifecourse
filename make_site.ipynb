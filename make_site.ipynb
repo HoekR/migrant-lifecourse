{
 "cells": [
  {
   "cell_type": "code",
   "execution_count": 1,
   "id": "20f5eab0",
   "metadata": {},
   "outputs": [],
   "source": [
    "%reload_ext autoreload\n",
    "%autoreload 2"
   ]
  },
  {
   "cell_type": "code",
   "execution_count": 2,
   "id": "d98313c4",
   "metadata": {},
   "outputs": [],
   "source": [
    "import os\n",
    "import re\n",
    "import pandas as pd"
   ]
  },
  {
   "cell_type": "code",
   "execution_count": 3,
   "id": "ad9881ef-3c6c-4b8e-80a0-1712c91c724e",
   "metadata": {},
   "outputs": [],
   "source": [
    "import warnings\n",
    "warnings.filterwarnings('ignore')"
   ]
  },
  {
   "cell_type": "code",
   "execution_count": 4,
   "id": "0126ff4a-e7f5-4610-bac2-a0892159457b",
   "metadata": {},
   "outputs": [],
   "source": [
    "\n",
    "import numpy as np"
   ]
  },
  {
   "cell_type": "code",
   "execution_count": 5,
   "id": "f733a937",
   "metadata": {},
   "outputs": [],
   "source": [
    "from settings import basepath, namesfile, excelfilename, schemes\n",
    "from names import readnames, writenames"
   ]
  },
  {
   "cell_type": "code",
   "execution_count": 6,
   "id": "6d489b31",
   "metadata": {},
   "outputs": [],
   "source": [
    "names = readnames(namesfile)"
   ]
  },
  {
   "cell_type": "code",
   "execution_count": 7,
   "id": "49a7dc77",
   "metadata": {},
   "outputs": [],
   "source": [
    "excelfile = pd.ExcelFile(excelfilename)"
   ]
  },
  {
   "cell_type": "code",
   "execution_count": 8,
   "id": "a6ea2df9-3917-4938-8fd9-a529e4cc43f2",
   "metadata": {},
   "outputs": [],
   "source": [
    "from templates import *\n",
    "from helpers import *\n",
    "from patterns import *\n",
    "from sheet2timeline import Sheet2Timeline\n"
   ]
  },
  {
   "cell_type": "code",
   "execution_count": 9,
   "id": "e68ff655",
   "metadata": {},
   "outputs": [],
   "source": [
    "from templates import *"
   ]
  },
  {
   "cell_type": "code",
   "execution_count": 31,
   "id": "b609d192",
   "metadata": {},
   "outputs": [
    {
     "name": "stdout",
     "output_type": "stream",
     "text": [
      "re.compile('v=(?P<nr>.*)') https://www.youtube.com/watch?v=oeIOZ2b49sY\n",
      "re.compile('v=(?P<nr>.*)') https://www.youtube.com/watch?v=4w1mtCmld4s\n",
      "re.compile('v=(?P<nr>.*)') https://www.youtube.com/watch?v=dvhs_DDxeq0\n"
     ]
    }
   ],
   "source": [
    "shts = {}\n",
    "for key in names:\n",
    "    ob = Sheet2Timeline(names[key], excelfile, schemes, mcard=mcard,mcardtmplt=mcardtmplt,naa_templt=naa_templ,pat1=pat1,pat2=pat2)\n",
    "    if len(ob.df)>0:\n",
    "            shts[key] = {}\n",
    "            shts[key]['lifeline']= ob.render()\n",
    "            shts[key]['profile'] = ob.make_personcard()\n",
    "            shts[key]['family'] = ob.make_family()\n",
    "\n"
   ]
  },
  {
   "cell_type": "code",
   "execution_count": 32,
   "id": "e15a169d-1a58-4049-885f-aa45e8235fa5",
   "metadata": {},
   "outputs": [],
   "source": [
    "basedir = '/Users/rikhoekstra/develop/emigratie/tentoonstelling/personen'\n",
    "for key in names:\n",
    "    tmplts = []\n",
    "    frame = shts.get(key)\n",
    "    if frame and frame.get('lifeline') is not None: \n",
    "        if len(frame.get('lifeline'))>0:\n",
    "            strikdict = frame['lifeline'].to_dict(orient='records')\n",
    "            for r in strikdict:\n",
    "                tmplts.append(tmplt.substitute(l_or_r=r.get('lr'),\n",
    "                                           date=r.get('date'), \n",
    "                                           item=r.get('eventtext')))\n",
    "            events = \"\\n\".join(tmplts)\n",
    "            prfl = frame['profile']\n",
    "            family = frame['family']\n",
    "            body = toptmpt.substitute(events=events, personinfo=prfl, family=family)\n",
    "            cntnr = container.substitute(body=body)\n",
    "            with open(os.path.join(basedir, key + '.html'), 'w') as flout:\n",
    "                flout.write(cntnr)"
   ]
  },
  {
   "cell_type": "raw",
   "id": "d91bca62-881c-4ead-9df5-f6dce6f22d1e",
   "metadata": {},
   "source": [
    "tdf = shts['frances_larder']['lifeline']\n",
    "#tdf[tdf.relation.isna() ]\n",
    "famevents = tdf[(tdf.event=='Birthday') & (tdf.relation.notna())]\n",
    "famcols = ['nm', 'date', 'relation', 'migration_card', 'item_id_naa']\n",
    "famevents.apply(lambda row: concat_famevents(row, famcols, ['migration_card', 'item_id_naa']), axis=1)\n",
    "tdf[~tdf.index.isin(list(famevents.index))]"
   ]
  },
  {
   "cell_type": "code",
   "execution_count": 36,
   "id": "65acf5f3-487a-4919-8d97-453231c8c2e8",
   "metadata": {},
   "outputs": [
    {
     "name": "stdout",
     "output_type": "stream",
     "text": [
      "0                                                                                                                                                                                                                                                                                                                                                                                          <p><div class=\"event\">Birthday</div></p><p>Adriana was the 100.000th emigrant travelling from the Netherlands to Australia. <a href=\"https://recordsearch.naa.gov.au/SearchNRetrieve/Interface/ViewImage.aspx?B=9849437\" target=\"image\" rel=\"noopener\"> more info</a></p><p><em></em></p>\n",
      "1     <p><div class=\"event\">Selection</div></p><p>The family was described as \"an excellent family group\". That was the reason why Adriana was chosen to be the 100.000th emigrant. During the selection procedure, Cornelis was advised to state in his last employment certificate that he worked as an engineering fitter and not as a plant operator, which might allowed him to change his worker classification as such. Cornelis had still not received this certificate on board the Johan van Oldenbarnevelt. <a href=\"https://recordsearch.naa.gov.au/SearchNRetrieve/Interface/ViewImage.aspx?B=1420972\" target=\"image\" rel=\"noopener\"> more info</a></p><p><em></em></p>\n",
      "2                                                                                                                                                                                                                                                                                                                                                                                                                                   <p><div class=\"event\">Propaganda</div></p><p>Photo of Family Zevenbergen in front of their home in the Netherlands. Additional photos about of their life in the Netherlands can be found at NAA Record Search and in the NA</p><p><em></em></p>\n",
      "3                                                                                                                                                                                                                                                                                                                                                                                                                                                                                                                                                     <p><div class=\"event\">Employment</div></p><p>Cornelis worked at the oil refinery at Pernis, near Rotterdam</p><p><em></em></p>\n",
      "4                                                                                                                                                                                                                                                                                                                                                                                                                                    <p><div class=\"event\">Propaganda</div></p><p>The Dutch Australian Weekly already announced the arrival of Adriana Zevenbegen in August 1958 in Australia. More newspapers about this news can be found at Delpher and Trove</p><p><em></em></p>\n",
      "5                                                                                                                                                                                                                                                                                                                                                                                                                                                                                                                                                    <p><div class=\"event\">Travel</div></p><p>The family departed from Amsterdam on the Johan van Oldenbarnevelt</p><p><em></em></p>\n",
      "6                                                                                                                                                                                                                                                                                                                                                                                                                                                                                                                                           <p><div class=\"event\">Propaganda</div></p><p>The family was photographed right before their departure in the harbour</p><p><em></em></p>\n",
      "7                                                                                                                                                                                                                                                                                                                                                                                                                                                                                                                                                                                 <p><div class=\"event\">Migration AU</div></p><p>The family arrived in Melbourne</p><p><em></em></p>\n",
      "8                                                                                                                                                                                                                                                                                                                        <p><div class=\"event\">Scheme</div></p><p><a href=\"https://migrant.huygens.knaw.nl/NAMA\">NAMA</a></p><p>The family had an assisted passage under the Netherlands Australian Migration Agreement<a href=\"https://recordsearch.naa.gov.au/SearchNRetrieve/Interface/ViewImage.aspx?B=1420972\" target=\"image\" rel=\"noopener\"> more info</a></p><p><em></em></p>\n",
      "9                                                                                                                                                                                                                        <p><div class=\"event\">Propaganda</div></p><p>Photo of the Adriana who was welcomed to Australia. There was a lot of media attention and the family received a lot of gifts to settle into their new home. Additional photos about their arrival in Australia can be found at NAA Record Search<a href=\"https://recordsearch.naa.gov.au/SearchNRetrieve/Interface/ViewImage.aspx?B=7529996\" target=\"image\" rel=\"noopener\"> more info</a></p><p><em></em></p>\n",
      "10                                                                                                                                                                                                                                                                                                                                                           <p><div class=\"event\">Support</div></p><p>An article about Adriana and her family was published in the 'Nieuwe Wereld' (12-12-1958), but the article consisted of several mistakes.There was also a lot of gossip by Dutch people in their surroundings that Zevenbergen received a home and a car.</p><p><em></em></p>\n",
      "11                                                                                                                                                                                                                                                                                                                                                                                                                                                                                                                                                                            <p><div class=\"event\">Employment</div></p><p>Cornelis worked at Shell Refining Ltd</p><p><em></em></p>\n",
      "12                                                                                                                                                                                                                                                                                                                                                                                                                                                                                                             <p><div class=\"event\">Employment</div></p><p>Cornelis failed his exam as engine driver. He had the possibility to try the exam again in six weeks</p><p><em></em></p>\n",
      "13                                                                                                                                                                                                                                                                                                                                                                                                               <p><div class=\"event\">Employment</div></p><p>Cornelis was a fitter at the Ford Motor Company at Geelong<a href=\"https://recordsearch.naa.gov.au/SearchNRetrieve/Interface/ViewImage.aspx?B=742719\" target=\"image\" rel=\"noopener\"> more info</a></p><p><em></em></p>\n",
      "14                                                                                                                                                                                                                                                                                                                                <p><div class=\"event\">Propanda</div></p><p>Photo of the Zevenbergen Family in front of their home in Newtown. Additional photos of their daily life can be found at NAA Record Search<a href=\"https://recordsearch.naa.gov.au/SearchNRetrieve/Interface/ViewImage.aspx?B=7427197\" target=\"image\" rel=\"noopener\"> more info</a></p><p><em></em></p>\n",
      "15                                                                                                                                                                                                                                                                                                                                                                                                                                                                            <p><div class=\"event\">Travel</div></p><p><a href=\"https://recordsearch.naa.gov.au/SearchNRetrieve/Interface/ViewImage.aspx?B=9849437\" target=\"image\" rel=\"noopener\"> more info</a></p><p><em></em></p>\n",
      "16                                                                                                                                                                                                                                                                                                                                                                                                                                                                            <p><div class=\"event\">Travel</div></p><p><a href=\"https://recordsearch.naa.gov.au/SearchNRetrieve/Interface/ViewImage.aspx?B=9849437\" target=\"image\" rel=\"noopener\"> more info</a></p><p><em></em></p>\n",
      "17                                                                                                                                                                                                                                                                                                                                                                                                                                                                                                                                                                                               <p><div class=\"event\">Deadday</div></p><p>Cornelis died in 1983</p><p><em></em></p>\n",
      "18                                                                                                                                                                                                                                                                                                                                                                                                                                                                                                                                                                                                <p><div class=\"event\">Deadday</div></p><p>Adriana died in 2006</p><p><em></em></p>\n",
      "19                                                                                                                                                                                                                                                                                                                                                                                                                                                                                                                     <p><div class=\"event\">Academic Publication</div></p><p>Master thesis by Miljana Manasijević who researched the publicity given to Adriana</p><p><em></em></p>\n",
      "20                                                                                                                                                                                                                                                                                                                                                                                                                                           <p><div class=\"event\">Documentary</div></p><p>In the documentary 'Vaarwel Nederland', Addo (Elberth) Zevenbergen told about his mother and how they experienced all the media attention she and her family received</p><p><em></em></p>\n",
      "21                                                                                                                                                                                                                                                                                                                                                                                                                                       <p><div class=\"event\">Interview</div></p><p>Podcast made by SBS-Dutch in Australia. They interviewed Kelly Pendlebury, the granddaughter of Adriana Zevenbergen. They talked about her grandmother and her Dutch family</p><p><em></em></p>\n",
      "dtype: object\n"
     ]
    }
   ],
   "source": [
    "# dit is een test life course\n",
    "\n",
    "ib = Sheet2Timeline(names['adriana_zevenbergen'],  excelfile, schemes, mcard=mcard,mcardtmplt=mcardtmplt,naa_templt=naa_templ,pat1=pat1,pat2=pat2)\n",
    "sel = ib.sheet2timeline()\n",
    "#sel.apply(lambda row: concat_evnt(row, ib.eventcols, ib.linkcols, ib.quotes) , axis=1)\n",
    "with pd.option_context('display.max_colwidth', None):\n",
    "  print(sel.apply(lambda row: concat_evnt(row, ib.eventcols, ib.linkcols, ib.quotes,\n",
    "                                          schemes=schemes, \n",
    "                                          mcard=mcard,\n",
    "                                          naatempl=naa_templ,\n",
    "                                          mcardtmplt=mcardtmplt,\n",
    "                                          youtubetempl=youtubetempl,\n",
    "                                          linktemplate=linktemplate,\n",
    "                                          conversions=conversions,\n",
    "                                          pat1=pat1,\n",
    "                                          pat2=pat2), axis=1))"
   ]
  }
 ],
 "metadata": {
  "kernelspec": {
   "display_name": "republic3.9",
   "language": "python",
   "name": "republic3.9"
  },
  "language_info": {
   "codemirror_mode": {
    "name": "ipython",
    "version": 3
   },
   "file_extension": ".py",
   "mimetype": "text/x-python",
   "name": "python",
   "nbconvert_exporter": "python",
   "pygments_lexer": "ipython3",
   "version": "3.9.10"
  },
  "toc": {
   "base_numbering": 1,
   "nav_menu": {},
   "number_sections": true,
   "sideBar": true,
   "skip_h1_title": false,
   "title_cell": "Table of Contents",
   "title_sidebar": "Contents",
   "toc_cell": false,
   "toc_position": {},
   "toc_section_display": true,
   "toc_window_display": false
  }
 },
 "nbformat": 4,
 "nbformat_minor": 5
}
